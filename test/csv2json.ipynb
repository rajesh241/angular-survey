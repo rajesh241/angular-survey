{
 "cells": [
  {
   "cell_type": "code",
   "execution_count": 1,
   "metadata": {},
   "outputs": [],
   "source": [
    "import json\n",
    "import pandas as pd"
   ]
  },
  {
   "cell_type": "code",
   "execution_count": 7,
   "metadata": {},
   "outputs": [],
   "source": [
    "filename = \"data/Survey2021_11mar2021_2.xlsx\"\n",
    "outdir = \"/Users/goli/work/repo/angSurvey/angular-survey/frontend/survey/src/assets\""
   ]
  },
  {
   "cell_type": "code",
   "execution_count": 8,
   "metadata": {},
   "outputs": [],
   "source": [
    "xls = pd.ExcelFile(filename, engine='openpyxl')\n",
    "df_sups = pd.read_excel(xls, 'sups')\n",
    "df_pages = pd.read_excel(xls, 'pages')\n",
    "df_questions = pd.read_excel(xls, 'questions')\n",
    "df_options = pd.read_excel(xls, 'options')"
   ]
  },
  {
   "cell_type": "code",
   "execution_count": 9,
   "metadata": {},
   "outputs": [
    {
     "name": "stdout",
     "output_type": "stream",
     "text": [
      "Index(['name'], dtype='object')\n",
      "4\n",
      "['अशोक पासवान', 'आसिफ अली', 'जुलेखा फातिमा', 'अजित पांडे']\n"
     ]
    }
   ],
   "source": [
    "df_sups.head()\n",
    "print(df_sups.columns)\n",
    "print(len(df_sups))\n",
    "sup_list = df_sups.name.unique().tolist()\n",
    "print(sup_list)\n",
    "with open(f\"{outdir}/sups.json\", \"w\") as f:\n",
    "    json.dump(sup_list,f,ensure_ascii=False,indent=4)"
   ]
  },
  {
   "cell_type": "code",
   "execution_count": 10,
   "metadata": {},
   "outputs": [
    {
     "name": "stdout",
     "output_type": "stream",
     "text": [
      "Index(['page', 'description', 'comments'], dtype='object')\n",
      "999\n",
      "9\n",
      "    page                                        description comments\n",
      "0  page1  <p><b>Description of project: </b></p>\\n\\n<p>अ...     None\n",
      "1  page2  <p><b>ब्लॉक 1: आपके बारे में व्यक्तिगत विवरण/ ...     None\n",
      "2  page3  <p><b>आपकी पढ़ाई और काम के अनुभव के बारे में कु...     None\n",
      "3  page4                    <p><b>Job Expectations </b></p>     None\n",
      "4  page5                <p><b>Peer network question</b></p>     None\n"
     ]
    }
   ],
   "source": [
    "df_pages.head()\n",
    "print(df_pages.columns)\n",
    "print(len(df_pages))\n",
    "df_pages = df_pages.dropna(subset=['page'])\n",
    "print(len(df_pages))\n",
    "print(df_pages.head())\n",
    "df_pages = df_pages.fillna(\"\")"
   ]
  },
  {
   "cell_type": "code",
   "execution_count": 11,
   "metadata": {},
   "outputs": [],
   "source": [
    "pages_json = df_pages.to_dict('records')\n",
    "with open(f\"{outdir}/pages.json\", \"w\") as f:\n",
    "    json.dump(pages_json,f,ensure_ascii=False,indent=4)"
   ]
  },
  {
   "cell_type": "markdown",
   "metadata": {},
   "source": [
    "## Questions"
   ]
  },
  {
   "cell_type": "code",
   "execution_count": 104,
   "metadata": {},
   "outputs": [
    {
     "name": "stdout",
     "output_type": "stream",
     "text": [
      "Index(['questionValue', 'questionType', 'pageNo', 'min', 'max', 'validation',\n",
      "       'questionLabel'],\n",
      "      dtype='object')\n",
      "(999, 7)\n"
     ]
    }
   ],
   "source": [
    "print(df_questions.columns)\n",
    "print(df_questions.shape)"
   ]
  },
  {
   "cell_type": "code",
   "execution_count": 105,
   "metadata": {},
   "outputs": [
    {
     "name": "stdout",
     "output_type": "stream",
     "text": [
      "(43, 7)\n"
     ]
    }
   ],
   "source": [
    "df_questions = df_questions.dropna(subset=['pageNo'])\n",
    "df_questions = df_questions.fillna(\"\")\n",
    "print(df_questions.shape)"
   ]
  },
  {
   "cell_type": "code",
   "execution_count": 106,
   "metadata": {},
   "outputs": [],
   "source": [
    "pages = df_questions.pageNo.unique().tolist()"
   ]
  },
  {
   "cell_type": "code",
   "execution_count": 107,
   "metadata": {},
   "outputs": [
    {
     "name": "stdout",
     "output_type": "stream",
     "text": [
      "(1, 7)\n",
      "(9, 7)\n",
      "(7, 7)\n",
      "(13, 7)\n",
      "(2, 7)\n",
      "(5, 7)\n",
      "(2, 7)\n",
      "(4, 7)\n"
     ]
    }
   ],
   "source": [
    "outdict = {}\n",
    "for page in pages:\n",
    "    df = df_questions[df_questions[\"pageNo\"]==page]\n",
    "    outdict[page] = df.to_dict('records')\n",
    "    print(df.shape)\n",
    "    "
   ]
  },
  {
   "cell_type": "code",
   "execution_count": 108,
   "metadata": {},
   "outputs": [],
   "source": [
    "with open(f\"{outdir}/questions.json\", \"w\") as f:\n",
    "    json.dump(outdict,f,ensure_ascii=False,indent=4)"
   ]
  },
  {
   "cell_type": "markdown",
   "metadata": {},
   "source": [
    "## Options"
   ]
  },
  {
   "cell_type": "code",
   "execution_count": 109,
   "metadata": {},
   "outputs": [
    {
     "name": "stdout",
     "output_type": "stream",
     "text": [
      "Index(['questionValue', 'optionLabel', 'optionValue'], dtype='object')\n",
      "(997, 3)\n"
     ]
    }
   ],
   "source": [
    "print(df_options.columns)\n",
    "print(df_options.shape)"
   ]
  },
  {
   "cell_type": "code",
   "execution_count": 110,
   "metadata": {},
   "outputs": [
    {
     "name": "stdout",
     "output_type": "stream",
     "text": [
      "(152, 3)\n"
     ]
    }
   ],
   "source": [
    "df_options = df_options.dropna(subset=['questionValue'])\n",
    "print(df_options.shape)"
   ]
  },
  {
   "cell_type": "code",
   "execution_count": 111,
   "metadata": {},
   "outputs": [],
   "source": [
    "pages = df_options.questionValue.unique().tolist()"
   ]
  },
  {
   "cell_type": "code",
   "execution_count": 112,
   "metadata": {},
   "outputs": [
    {
     "name": "stdout",
     "output_type": "stream",
     "text": [
      "(2, 3)\n",
      "(2, 3)\n",
      "(38, 3)\n",
      "(3, 3)\n",
      "(5, 3)\n",
      "(4, 3)\n",
      "(4, 3)\n",
      "(6, 3)\n",
      "(7, 3)\n",
      "(2, 3)\n",
      "(4, 3)\n",
      "(3, 3)\n",
      "(2, 3)\n",
      "(3, 3)\n",
      "(3, 3)\n",
      "(4, 3)\n",
      "(5, 3)\n",
      "(8, 3)\n",
      "(5, 3)\n",
      "(5, 3)\n",
      "(5, 3)\n",
      "(6, 3)\n",
      "(5, 3)\n",
      "(4, 3)\n",
      "(5, 3)\n",
      "(4, 3)\n",
      "(4, 3)\n",
      "(4, 3)\n"
     ]
    }
   ],
   "source": [
    "outdict = {}\n",
    "for page in pages:\n",
    "    df = df_options[df_options[\"questionValue\"]==page]\n",
    "    outdict[page] = df.to_dict('records')\n",
    "    print(df.shape)\n",
    "    "
   ]
  },
  {
   "cell_type": "code",
   "execution_count": 113,
   "metadata": {},
   "outputs": [],
   "source": [
    "with open(f\"{outdir}/options.json\", \"w\") as f:\n",
    "    json.dump(outdict,f,ensure_ascii=False,indent=4)"
   ]
  },
  {
   "cell_type": "code",
   "execution_count": null,
   "metadata": {},
   "outputs": [],
   "source": []
  },
  {
   "cell_type": "code",
   "execution_count": null,
   "metadata": {},
   "outputs": [],
   "source": []
  }
 ],
 "metadata": {
  "kernelspec": {
   "display_name": "Python 3",
   "language": "python",
   "name": "python3"
  },
  "language_info": {
   "codemirror_mode": {
    "name": "ipython",
    "version": 3
   },
   "file_extension": ".py",
   "mimetype": "text/x-python",
   "name": "python",
   "nbconvert_exporter": "python",
   "pygments_lexer": "ipython3",
   "version": "3.8.6"
  }
 },
 "nbformat": 4,
 "nbformat_minor": 4
}
